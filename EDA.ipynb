{
 "cells": [
  {
   "cell_type": "markdown",
   "id": "d7756b12",
   "metadata": {},
   "source": [
    "# Import libraries"
   ]
  },
  {
   "cell_type": "code",
   "execution_count": 21,
   "id": "f46fa8b7-2c03-4549-be11-dd4fd23292e3",
   "metadata": {},
   "outputs": [],
   "source": [
    "import pandas as pd\n",
    "import matplotlib.pyplot as plt\n",
    "import seaborn as sns"
   ]
  },
  {
   "cell_type": "markdown",
   "id": "f0f6981b",
   "metadata": {},
   "source": [
    "## Bring the dataset from the database"
   ]
  },
  {
   "cell_type": "code",
   "execution_count": 23,
   "id": "17a41197",
   "metadata": {},
   "outputs": [
    {
     "data": {
      "text/html": [
       "<div>\n",
       "<style scoped>\n",
       "    .dataframe tbody tr th:only-of-type {\n",
       "        vertical-align: middle;\n",
       "    }\n",
       "\n",
       "    .dataframe tbody tr th {\n",
       "        vertical-align: top;\n",
       "    }\n",
       "\n",
       "    .dataframe thead th {\n",
       "        text-align: right;\n",
       "    }\n",
       "</style>\n",
       "<table border=\"1\" class=\"dataframe\">\n",
       "  <thead>\n",
       "    <tr style=\"text-align: right;\">\n",
       "      <th></th>\n",
       "      <th>Title</th>\n",
       "      <th>Release Date</th>\n",
       "      <th>Developer</th>\n",
       "      <th>Publisher</th>\n",
       "      <th>Genres</th>\n",
       "      <th>Product Rating</th>\n",
       "      <th>User Score</th>\n",
       "      <th>User Ratings Count</th>\n",
       "      <th>Platforms Info</th>\n",
       "    </tr>\n",
       "  </thead>\n",
       "  <tbody>\n",
       "    <tr>\n",
       "      <th>0</th>\n",
       "      <td>Ziggurat (2012)</td>\n",
       "      <td>2/17/2012</td>\n",
       "      <td>Action Button Entertainment</td>\n",
       "      <td>Freshuu Inc.</td>\n",
       "      <td>Action</td>\n",
       "      <td>NaN</td>\n",
       "      <td>6.9</td>\n",
       "      <td>14.0</td>\n",
       "      <td>[{'Platform': 'iOS (iPhone/iPad)', 'Platform M...</td>\n",
       "    </tr>\n",
       "    <tr>\n",
       "      <th>1</th>\n",
       "      <td>4X4 EVO 2</td>\n",
       "      <td>11/15/2001</td>\n",
       "      <td>Terminal Reality</td>\n",
       "      <td>Gathering</td>\n",
       "      <td>Auto Racing Sim</td>\n",
       "      <td>Rated E For Everyone</td>\n",
       "      <td>NaN</td>\n",
       "      <td>NaN</td>\n",
       "      <td>[{'Platform': 'Xbox', 'Platform Metascore': '5...</td>\n",
       "    </tr>\n",
       "    <tr>\n",
       "      <th>2</th>\n",
       "      <td>MotoGP 2 (2001)</td>\n",
       "      <td>1/22/2002</td>\n",
       "      <td>Namco</td>\n",
       "      <td>Namco</td>\n",
       "      <td>Auto Racing Sim</td>\n",
       "      <td>Rated E For Everyone</td>\n",
       "      <td>5.8</td>\n",
       "      <td>NaN</td>\n",
       "      <td>[{'Platform': 'PlayStation 2', 'Platform Metas...</td>\n",
       "    </tr>\n",
       "    <tr>\n",
       "      <th>3</th>\n",
       "      <td>Gothic 3</td>\n",
       "      <td>11/14/2006</td>\n",
       "      <td>Piranha Bytes</td>\n",
       "      <td>Aspyr</td>\n",
       "      <td>Western RPG</td>\n",
       "      <td>Rated T For Teen</td>\n",
       "      <td>7.5</td>\n",
       "      <td>832.0</td>\n",
       "      <td>[{'Platform': 'PC', 'Platform Metascore': '63'...</td>\n",
       "    </tr>\n",
       "    <tr>\n",
       "      <th>4</th>\n",
       "      <td>Siege Survival: Gloria Victis</td>\n",
       "      <td>5/18/2021</td>\n",
       "      <td>FishTankStudio</td>\n",
       "      <td>Black Eye Games</td>\n",
       "      <td>RPG</td>\n",
       "      <td>NaN</td>\n",
       "      <td>6.5</td>\n",
       "      <td>10.0</td>\n",
       "      <td>[{'Platform': 'PC', 'Platform Metascore': '69'...</td>\n",
       "    </tr>\n",
       "  </tbody>\n",
       "</table>\n",
       "</div>"
      ],
      "text/plain": [
       "                           Title Release Date                    Developer        Publisher           Genres        Product Rating  User Score  User Ratings Count                                     Platforms Info\n",
       "0                Ziggurat (2012)    2/17/2012  Action Button Entertainment     Freshuu Inc.           Action                   NaN         6.9                14.0  [{'Platform': 'iOS (iPhone/iPad)', 'Platform M...\n",
       "1                      4X4 EVO 2   11/15/2001             Terminal Reality        Gathering  Auto Racing Sim  Rated E For Everyone         NaN                 NaN  [{'Platform': 'Xbox', 'Platform Metascore': '5...\n",
       "2                MotoGP 2 (2001)    1/22/2002                        Namco            Namco  Auto Racing Sim  Rated E For Everyone         5.8                 NaN  [{'Platform': 'PlayStation 2', 'Platform Metas...\n",
       "3                       Gothic 3   11/14/2006                Piranha Bytes            Aspyr      Western RPG      Rated T For Teen         7.5               832.0  [{'Platform': 'PC', 'Platform Metascore': '63'...\n",
       "4  Siege Survival: Gloria Victis    5/18/2021               FishTankStudio  Black Eye Games              RPG                   NaN         6.5                10.0  [{'Platform': 'PC', 'Platform Metascore': '69'..."
      ]
     },
     "execution_count": 23,
     "metadata": {},
     "output_type": "execute_result"
    }
   ],
   "source": [
    "df = pd.read_csv(\"Dataset.csv\", sep=',')\n",
    "df.head()"
   ]
  },
  {
   "cell_type": "markdown",
   "id": "473085dd",
   "metadata": {},
   "source": [
    "# Description"
   ]
  },
  {
   "cell_type": "code",
   "execution_count": 24,
   "id": "b82a56dc",
   "metadata": {},
   "outputs": [
    {
     "data": {
      "text/html": [
       "<div>\n",
       "<style scoped>\n",
       "    .dataframe tbody tr th:only-of-type {\n",
       "        vertical-align: middle;\n",
       "    }\n",
       "\n",
       "    .dataframe tbody tr th {\n",
       "        vertical-align: top;\n",
       "    }\n",
       "\n",
       "    .dataframe thead th {\n",
       "        text-align: right;\n",
       "    }\n",
       "</style>\n",
       "<table border=\"1\" class=\"dataframe\">\n",
       "  <thead>\n",
       "    <tr style=\"text-align: right;\">\n",
       "      <th></th>\n",
       "      <th>User Score</th>\n",
       "      <th>User Ratings Count</th>\n",
       "    </tr>\n",
       "  </thead>\n",
       "  <tbody>\n",
       "    <tr>\n",
       "      <th>count</th>\n",
       "      <td>11714.000000</td>\n",
       "      <td>11299.000000</td>\n",
       "    </tr>\n",
       "    <tr>\n",
       "      <th>mean</th>\n",
       "      <td>6.894852</td>\n",
       "      <td>245.642977</td>\n",
       "    </tr>\n",
       "    <tr>\n",
       "      <th>std</th>\n",
       "      <td>1.392213</td>\n",
       "      <td>1847.895353</td>\n",
       "    </tr>\n",
       "    <tr>\n",
       "      <th>min</th>\n",
       "      <td>0.300000</td>\n",
       "      <td>5.000000</td>\n",
       "    </tr>\n",
       "    <tr>\n",
       "      <th>25%</th>\n",
       "      <td>6.200000</td>\n",
       "      <td>14.000000</td>\n",
       "    </tr>\n",
       "    <tr>\n",
       "      <th>50%</th>\n",
       "      <td>7.200000</td>\n",
       "      <td>34.000000</td>\n",
       "    </tr>\n",
       "    <tr>\n",
       "      <th>75%</th>\n",
       "      <td>7.900000</td>\n",
       "      <td>111.000000</td>\n",
       "    </tr>\n",
       "    <tr>\n",
       "      <th>max</th>\n",
       "      <td>10.000000</td>\n",
       "      <td>163419.000000</td>\n",
       "    </tr>\n",
       "  </tbody>\n",
       "</table>\n",
       "</div>"
      ],
      "text/plain": [
       "         User Score  User Ratings Count\n",
       "count  11714.000000        11299.000000\n",
       "mean       6.894852          245.642977\n",
       "std        1.392213         1847.895353\n",
       "min        0.300000            5.000000\n",
       "25%        6.200000           14.000000\n",
       "50%        7.200000           34.000000\n",
       "75%        7.900000          111.000000\n",
       "max       10.000000       163419.000000"
      ]
     },
     "execution_count": 24,
     "metadata": {},
     "output_type": "execute_result"
    }
   ],
   "source": [
    "df.describe()"
   ]
  },
  {
   "cell_type": "markdown",
   "id": "8b4edbb6",
   "metadata": {},
   "source": [
    "# Data type"
   ]
  },
  {
   "cell_type": "code",
   "execution_count": 25,
   "id": "3c7f09d4-3aae-40c3-b661-5f236178d66f",
   "metadata": {},
   "outputs": [
    {
     "data": {
      "text/plain": [
       "Title                  object\n",
       "Release Date           object\n",
       "Developer              object\n",
       "Publisher              object\n",
       "Genres                 object\n",
       "Product Rating         object\n",
       "User Score            float64\n",
       "User Ratings Count    float64\n",
       "Platforms Info         object\n",
       "dtype: object"
      ]
     },
     "execution_count": 25,
     "metadata": {},
     "output_type": "execute_result"
    }
   ],
   "source": [
    "df.dtypes"
   ]
  },
  {
   "cell_type": "markdown",
   "id": "cddb3bd7",
   "metadata": {},
   "source": [
    "# General information of the data"
   ]
  },
  {
   "cell_type": "code",
   "execution_count": 26,
   "id": "7ebb203f",
   "metadata": {},
   "outputs": [
    {
     "name": "stdout",
     "output_type": "stream",
     "text": [
      "<class 'pandas.core.frame.DataFrame'>\n",
      "RangeIndex: 14055 entries, 0 to 14054\n",
      "Data columns (total 9 columns):\n",
      " #   Column              Non-Null Count  Dtype  \n",
      "---  ------              --------------  -----  \n",
      " 0   Title               14034 non-null  object \n",
      " 1   Release Date        13991 non-null  object \n",
      " 2   Developer           13917 non-null  object \n",
      " 3   Publisher           13917 non-null  object \n",
      " 4   Genres              14034 non-null  object \n",
      " 5   Product Rating      11005 non-null  object \n",
      " 6   User Score          11714 non-null  float64\n",
      " 7   User Ratings Count  11299 non-null  float64\n",
      " 8   Platforms Info      14055 non-null  object \n",
      "dtypes: float64(2), object(7)\n",
      "memory usage: 988.4+ KB\n"
     ]
    }
   ],
   "source": [
    "df.info()"
   ]
  },
  {
   "cell_type": "markdown",
   "id": "0d6f42a9",
   "metadata": {},
   "source": [
    "# Convert data"
   ]
  },
  {
   "cell_type": "code",
   "execution_count": 28,
   "id": "e435f43b",
   "metadata": {},
   "outputs": [
    {
     "name": "stdout",
     "output_type": "stream",
     "text": [
      "<class 'pandas.core.frame.DataFrame'>\n",
      "RangeIndex: 14055 entries, 0 to 14054\n",
      "Data columns (total 9 columns):\n",
      " #   Column              Non-Null Count  Dtype  \n",
      "---  ------              --------------  -----  \n",
      " 0   Title               14034 non-null  string \n",
      " 1   Release Date        13991 non-null  string \n",
      " 2   Developer           13917 non-null  string \n",
      " 3   Publisher           13917 non-null  string \n",
      " 4   Genres              14034 non-null  string \n",
      " 5   Product Rating      11005 non-null  string \n",
      " 6   User Score          11714 non-null  Float64\n",
      " 7   User Ratings Count  11299 non-null  Int64  \n",
      " 8   Platforms Info      14055 non-null  string \n",
      "dtypes: Float64(1), Int64(1), string(7)\n",
      "memory usage: 1015.8 KB\n"
     ]
    }
   ],
   "source": [
    "df1 = df.convert_dtypes() \n",
    "df1.info() "
   ]
  },
  {
   "cell_type": "code",
   "execution_count": null,
   "id": "1ae1a0e7",
   "metadata": {},
   "outputs": [],
   "source": [
    "# Download csv df1"
   ]
  },
  {
   "cell_type": "markdown",
   "id": "ac04ca03",
   "metadata": {},
   "source": [
    "# Number of rows and columns"
   ]
  },
  {
   "cell_type": "code",
   "execution_count": 29,
   "id": "acd12428-9b1e-49e6-a558-a7759dfac181",
   "metadata": {},
   "outputs": [
    {
     "name": "stdout",
     "output_type": "stream",
     "text": [
      "(14055, 9)\n",
      "<class 'tuple'>\n"
     ]
    }
   ],
   "source": [
    "print(df.shape)\n",
    "print(type(df.shape)) #Returns a tuple of the form: (\"number of rows\", \"number of columns\")"
   ]
  },
  {
   "cell_type": "code",
   "execution_count": 30,
   "id": "2e066a34",
   "metadata": {},
   "outputs": [
    {
     "name": "stdout",
     "output_type": "stream",
     "text": [
      "Number of rows: 14055\n",
      "Number of columns: 9\n",
      "Type: <class 'tuple'>\n"
     ]
    }
   ],
   "source": [
    "\n",
    "num_rows, num_cols = df.shape\n",
    "\n",
    "print(f\"Number of rows: {num_rows}\")\n",
    "print(f\"Number of columns: {num_cols}\")\n",
    "\n",
    "print(f\"Type: {type(df.shape)}\")\n"
   ]
  },
  {
   "cell_type": "markdown",
   "id": "4d1b0b93",
   "metadata": {},
   "source": [
    "# Unique values"
   ]
  },
  {
   "cell_type": "code",
   "execution_count": 31,
   "id": "70f9ff53",
   "metadata": {},
   "outputs": [
    {
     "data": {
      "image/png": "[encoded data removed]",
      "text/plain": [
       "<Figure size 1000x600 with 1 Axes>"
      ]
     },
     "metadata": {},
     "output_type": "display_data"
    }
   ],
   "source": [
    "unique_amount = df.nunique()\n",
    "\n",
    "plt.figure(figsize=(10, 6))\n",
    "\n",
    "bars = plt.bar(unique_amount.index, unique_amount.values, color='skyblue')\n",
    "for bar in bars:\n",
    "    height = bar.get_height()\n",
    "    plt.text(bar.get_x() + bar.get_width()/2, height, str(int(height)), ha='center', va='bottom')\n",
    "\n",
    "plt.ylabel('Unique Values')\n",
    "plt.title('Unique values amount')\n",
    "plt.xticks(rotation=90)\n",
    "plt.tight_layout()\n",
    "plt.show()"
   ]
  },
  {
   "cell_type": "markdown",
   "id": "df38df7e",
   "metadata": {},
   "source": [
    "# Null values"
   ]
  },
  {
   "cell_type": "code",
   "execution_count": 34,
   "id": "ee9c2b3d",
   "metadata": {},
   "outputs": [
    {
     "ename": "TypeError",
     "evalue": "'Series' object is not callable",
     "output_type": "error",
     "traceback": [
      "\u001b[1;31m---------------------------------------------------------------------------\u001b[0m",
      "\u001b[1;31mTypeError\u001b[0m                                 Traceback (most recent call last)",
      "Cell \u001b[1;32mIn[34], line 3\u001b[0m\n\u001b[0;32m      1\u001b[0m null_report \u001b[38;5;241m=\u001b[39m df\u001b[38;5;241m.\u001b[39misnull()\u001b[38;5;241m.\u001b[39msum()\n\u001b[1;32m----> 3\u001b[0m \u001b[43mnull_report\u001b[49m\u001b[43m(\u001b[49m\u001b[43m)\u001b[49m\n",
      "\u001b[1;31mTypeError\u001b[0m: 'Series' object is not callable"
     ]
    }
   ],
   "source": [
    "null_report = df.isnull().sum()\n",
    "\n",
    "null_report"
   ]
  },
  {
   "cell_type": "markdown",
   "id": "7af85d97",
   "metadata": {},
   "source": [
    "# Duplicate values"
   ]
  },
  {
   "cell_type": "code",
   "execution_count": 133,
   "id": "b6108b3f",
   "metadata": {},
   "outputs": [
    {
     "name": "stdout",
     "output_type": "stream",
     "text": [
      "Duplicated Values:\n",
      "Column Title : 28130\n",
      "Column Release Day : 42152\n",
      "Column Release Month : 42133\n",
      "Column Release Year : 42134\n",
      "Column Developer : 37715\n",
      "Column Publisher : 39857\n",
      "Column Genres : 42045\n",
      "Column Product Rating : 42158\n",
      "Column User Score : 42074\n",
      "Column User Ratings Count : 40927\n",
      "Column Platforms Info : 30209\n"
     ]
    }
   ],
   "source": [
    "duplicated_values = {}\n",
    "\n",
    "for column in df.columns:\n",
    "    amount_duplicated = df[column].duplicated().sum()\n",
    "    duplicated_values[column] = amount_duplicated\n",
    "\n",
    "print(\"Duplicated Values:\")\n",
    "for column, amount in duplicated_values.items():\n",
    "    print(f\"Column {column} : {amount}\")"
   ]
  },
  {
   "cell_type": "markdown",
   "id": "13b9dc50",
   "metadata": {},
   "source": [
    "# Graphics"
   ]
  }
 ],
 "metadata": {
  "kernelspec": {
   "display_name": "Python 3 (ipykernel)",
   "language": "python",
   "name": "python3"
  },
  "language_info": {
   "codemirror_mode": {
    "name": "ipython",
    "version": 3
   },
   "file_extension": ".py",
   "mimetype": "text/x-python",
   "name": "python",
   "nbconvert_exporter": "python",
   "pygments_lexer": "ipython3",
   "version": "3.12.2"
  }
 },
 "nbformat": 4,
 "nbformat_minor": 5
}
